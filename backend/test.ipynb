{
 "cells": [
  {
   "cell_type": "markdown",
   "id": "406875aa",
   "metadata": {},
   "source": [
    "# Load the saved cnn model\n",
    "This model is downloaded from google collab"
   ]
  },
  {
   "cell_type": "code",
   "execution_count": 1,
   "id": "2ae45391",
   "metadata": {},
   "outputs": [],
   "source": [
    "from tensorflow.keras.models import load_model"
   ]
  },
  {
   "cell_type": "code",
   "execution_count": 2,
   "id": "4525ddc4",
   "metadata": {},
   "outputs": [
    {
     "name": "stderr",
     "output_type": "stream",
     "text": [
      "WARNING:absl:Compiled the loaded model, but the compiled metrics have yet to be built. `model.compile_metrics` will be empty until you train or evaluate the model.\n"
     ]
    }
   ],
   "source": [
    "model = load_model(\"digit-prediction-cnn-model.h5\")"
   ]
  },
  {
   "cell_type": "code",
   "execution_count": 7,
   "id": "30a85709",
   "metadata": {},
   "outputs": [],
   "source": [
    "image_path = \"https://www.google.com/url?sa=i&url=https%3A%2F%2Fstackoverflow.com%2Fquestions%2F44715597%2Fai-neural-network-wrong-handwritten-digit-prediction-due-to-inverted-color-octa&psig=AOvVaw2SpwY6NAS9NaPAjFvIXthP&ust=1747740533210000&source=images&cd=vfe&opi=89978449&ved=0CBEQjRxqFwoTCPDwv_62r40DFQAAAAAdAAAAABAE\""
   ]
  },
  {
   "cell_type": "code",
   "execution_count": 8,
   "id": "32c34eca",
   "metadata": {},
   "outputs": [],
   "source": [
    "import numpy as np\n",
    "from PIL import Image, ImageOps\n",
    "import matplotlib.pyplot as plt"
   ]
  },
  {
   "cell_type": "code",
   "execution_count": null,
   "id": "a8646be0",
   "metadata": {},
   "outputs": [
    {
     "data": {
      "image/png": "[encoded data removed]",
      "text/plain": [
       "<Figure size 640x480 with 1 Axes>"
      ]
     },
     "metadata": {},
     "output_type": "display_data"
    }
   ],
   "source": [
    "img_path = r\"C:\\Users\\HARSHITH\\Downloads\\number.png\" \n",
    "img = Image.open(img_path).convert('L')    \n",
    "img = ImageOps.invert(img)              \n",
    "img = img.resize((28, 28))   \n",
    "\n",
    "\n",
    "img_array = np.array(img) / 255.0\n",
    "img_array = img_array.reshape(1, 28, 28, 1)\n",
    "\n",
    "\n",
    "prediction = model.predict(img_array, verbose=0)\n",
    "predicted_class = np.argmax(prediction)\n",
    "\n",
    "\n",
    "plt.imshow(img_array.reshape(28, 28), cmap='gray')\n",
    "plt.title(f\"Predicted: {predicted_class}\")\n",
    "plt.axis('off')\n",
    "plt.show()"
   ]
  },
  {
   "cell_type": "code",
   "execution_count": null,
   "id": "012a879e",
   "metadata": {},
   "outputs": [],
   "source": []
  }
 ],
 "metadata": {
  "kernelspec": {
   "display_name": "myenv",
   "language": "python",
   "name": "python3"
  },
  "language_info": {
   "codemirror_mode": {
    "name": "ipython",
    "version": 3
   },
   "file_extension": ".py",
   "mimetype": "text/x-python",
   "name": "python",
   "nbconvert_exporter": "python",
   "pygments_lexer": "ipython3",
   "version": "3.12.7"
  }
 },
 "nbformat": 4,
 "nbformat_minor": 5
}
